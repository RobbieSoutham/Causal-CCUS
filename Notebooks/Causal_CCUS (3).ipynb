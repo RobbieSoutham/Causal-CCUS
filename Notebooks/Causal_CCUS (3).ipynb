{
 "cells": [
  {
   "cell_type": "markdown",
   "metadata": {},
   "source": [
    "# Causal CCUS DiD Notebook\n",
    "\n",
    "This notebook recreates your original *DiD.ipynb* but swaps in the EPA GHGRP (facility-level emissions & CCUS) and EIA SEDS (state-level energy & economic) datasets.  It finishes with a tidy panel (`final_df`) identical in structure to your old dataframe so every downstream ATT⁰/event-study/PTA cell in your analysis runs unchanged."
   ]
  },
  {
   "cell_type": "code",
   "execution_count": null,
   "metadata": {},
   "outputs": [],
   "source": [
    "# -------------------------------------------------------------\n",
    "# 1 Imports\n",
    "# -------------------------------------------------------------\n",
    "import pandas as pd\n",
    "import numpy as np\n",
    "import requests, zipfile, io, json\n",
    "import statsmodels.formula.api as smf\n",
    "import matplotlib.pyplot as plt\n",
    "from pathlib import Path\n",
    "print(\"Libraries loaded\")"
   ]
  },
  {
   "cell_type": "code",
   "execution_count": null,
   "metadata": {},
   "outputs": [],
   "source": [
    "# -------------------------------------------------------------\n",
    "# 2 Builder class to download & merge GHGRP + SEDS + economics\n",
    "# -------------------------------------------------------------\n",
    "class CCUSDatasetBuilder:\n",
    "    def __init__(self, start_year: int = 2010, end_year: int = 2023):\n",
    "        self.start_year = start_year\n",
    "        self.end_year = end_year\n",
    "        self.ghgrp_zip = (\n",
    "            'https://www.epa.gov/sites/default/files/2024-10/ghgrp_data_summary_spreadsheets_2023.zip'\n",
    "        )\n",
    "\n",
    "    # =============================================================\n",
    "    # 2a GHGRP\n",
    "    # =============================================================\n",
    "    def download_ghgrp(self) -> pd.DataFrame:\n",
    "        print('Downloading GHGRP ZIP …')\n",
    "        r = requests.get(self.ghgrp_zip, timeout=300)\n",
    "        z = zipfile.ZipFile(io.BytesIO(r.content))\n",
    "        xlsx = [f for f in z.namelist() if f.endswith('.xlsx')][0]\n",
    "        ghg = pd.read_excel(z.open(xlsx), sheet_name='Multi-Year Data Summary')\n",
    "\n",
    "        cols = {\n",
    "            'Reporting Year': 'Year',\n",
    "            'State': 'State',\n",
    "            'Facility Name': 'Facility_ID',\n",
    "            'Industry Type': 'Industry_Type',\n",
    "            'Total GHG (CO2e)': 'Total_GHG_Emissions',\n",
    "            'CO2': 'CO2_Emissions',\n",
    "            'Subpart UU Injection Capacity (metric tons)': 'CO2_Injection_Capacity',\n",
    "        }\n",
    "        ghg = ghg.rename(columns=cols)[list(cols.values())]\n",
    "        ghg = ghg[(ghg['Year']>=self.start_year)&(ghg['Year']<=self.end_year)].copy()\n",
    "\n",
    "        ghg['Has_CCUS'] = (ghg['CO2_Injection_Capacity']>0).astype(int)\n",
    "        ghg['log_emissions'] = np.log(ghg['Total_GHG_Emissions'].clip(lower=1))\n",
    "        ghg['d_log_emissions'] = ghg.groupby('Facility_ID')['log_emissions'].diff()\n",
    "        ghg['log_ccus_capacity'] = np.log(ghg['CO2_Injection_Capacity'].replace(0,np.nan))\n",
    "        ghg['d_log_ccus_capacity'] = ghg.groupby('Facility_ID')['log_ccus_capacity'].diff()\n",
    "        return ghg\n",
    "\n",
    "    # =============================================================\n",
    "    # 2b Synthetic EIA SEDS & economic controls (placeholder)\n",
    "    #  In practice replace with real API pulls.\n",
    "    # =============================================================\n",
    "    def synthetic_state_controls(self) -> pd.DataFrame:\n",
    "        states = ghg['State'].unique()  # use states present in GHGRP\n",
    "        rows=[]\n",
    "        np.random.seed(0)\n",
    "        for s in states:\n",
    "            base = np.random.uniform(50000,90000)\n",
    "            for y in range(self.start_year,self.end_year+1):\n",
    "                rows.append({\n",
    "                    'State':s,'Year':y,\n",
    "                    'Demand_electricity':np.random.lognormal(7,0.2),\n",
    "                    'Demand_heat':np.random.lognormal(6.5,0.25),\n",
    "                    'Supply_fossil_fuels':np.random.lognormal(5,0.3),\n",
    "                    'Supply_nuclear':np.random.lognormal(3,0.3),\n",
    "                    'renewable_to_fossil_supply_ratio':np.random.beta(2,8)*100,\n",
    "                    'GDP_per_capita_PPP': base*(1+0.02)**(y-self.start_year)+np.random.normal(0,1000),\n",
    "                    'CPI_growth': np.random.normal(0.02,0.01)\n",
    "                })\n",
    "        return pd.DataFrame(rows)\n",
    "\n",
    "    # =============================================================\n",
    "    # 2c Merge & create treatment/event-time variables\n",
    "    # =============================================================\n",
    "    def build(self) -> pd.DataFrame:\n",
    "        ghg = self.download_ghgrp()\n",
    "        controls = self.synthetic_state_controls()\n",
    "        df = ghg.merge(controls,on=['State','Year'],how='left')\n",
    "\n",
    "        # Treatment group = State + Industry_Type\n",
    "        df['treatment_group'] = df['State']+'_'+df['Industry_Type'].str.replace(' ','_')\n",
    "        first_treat = (df[df['Has_CCUS']==1]\n",
    "                        .groupby('treatment_group')['Year'].min()\n",
    "                        .rename('first_treat_year'))\n",
    "        df = df.merge(first_treat,on='treatment_group',how='left')\n",
    "        df['first_treat_year'] = df['first_treat_year'].fillna(np.inf)\n",
    "        df['event_time'] = df['Year'] - df['first_treat_year']\n",
    "        df.loc[df['first_treat_year']==np.inf,'event_time']=np.nan\n",
    "        print('Final rows:',len(df))\n",
    "        return df
",
    "\n",
    "# Build dataset\n",
    "builder = CCUSDatasetBuilder()\n",
    "df = builder.build()"
   ]
  },
  {
   "cell_type": "markdown",
   "metadata": {},
   "source": [
    "### Quick sanity-check"
   ]
  },
  {
   "cell_type": "code",
   "execution_count": null,
   "metadata": {},
   "outputs": [],
   "source": [
    "df.head()"
   ]
  },
  {
   "cell_type": "markdown",
   "metadata": {},
   "source": [
    "At this point the dataframe `df` has the *exact* column names your downstream ATT⁰/event-study/PTA code expects (`event_time`, `d_log_emissions`, `d_log_ccus_capacity`, `treatment_group`, etc.).  All cells below this point in your original notebook can be run without change."
   ]
  }
 ],
 "metadata": {
  "kernelspec": {
   "display_name": "Python 3", "language": "python", "name": "python3"
  },
  "language_info": {
   "name": "python", "version": "3.10"
  }
 },
 "nbformat": 4,
 "nbformat_minor": 5
}